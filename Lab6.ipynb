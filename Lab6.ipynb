{
  "nbformat": 4,
  "nbformat_minor": 0,
  "metadata": {
    "colab": {
      "provenance": [],
      "authorship_tag": "ABX9TyOna2LXVla4UIAWVPy/MEby",
      "include_colab_link": true
    },
    "kernelspec": {
      "name": "python3",
      "display_name": "Python 3"
    },
    "language_info": {
      "name": "python"
    }
  },
  "cells": [
    {
      "cell_type": "markdown",
      "metadata": {
        "id": "view-in-github",
        "colab_type": "text"
      },
      "source": [
        "<a href=\"https://colab.research.google.com/github/jays-github2022/BSIS2-DV-LAB6-JAYSONB/blob/main/Lab6.ipynb\" target=\"_parent\"><img src=\"https://colab.research.google.com/assets/colab-badge.svg\" alt=\"Open In Colab\"/></a>"
      ]
    },
    {
      "cell_type": "code",
      "execution_count": 1,
      "metadata": {
        "colab": {
          "base_uri": "https://localhost:8080/"
        },
        "id": "vNME_kiQy8kZ",
        "outputId": "2811c51b-116d-459d-f844-526f03d7b0e1"
      },
      "outputs": [
        {
          "output_type": "stream",
          "name": "stdout",
          "text": [
            "[12, 20, 18, 23]\n",
            "[2, True, 'Jayson', 1.5]\n",
            "[12, 20, 18, 23]\n",
            "[12, 20, 18, 23]\n",
            "[12, 20]\n"
          ]
        },
        {
          "output_type": "execute_result",
          "data": {
            "text/plain": [
              "[20, 18, 23]"
            ]
          },
          "metadata": {},
          "execution_count": 1
        }
      ],
      "source": [
        "\n",
        "# Define a list \n",
        "z = [12, 20, 18, 23]\n",
        "print(z)\n",
        "\n",
        "# Define a list\n",
        "heterogenous_elements = [2, True, 'Jayson', 1.5]\n",
        "print(heterogenous_elements)\n",
        "\n",
        "# Access the first item of a list at index 0 \n",
        "z [0]\n",
        "print(z)\n",
        "\n",
        "z[-1]\n",
        "print(z)\n",
        "\n",
        "print(z [0:2])\n",
        "\n",
        "z [:3]\n",
        "\n",
        "z [1:]"
      ]
    }
  ]
}